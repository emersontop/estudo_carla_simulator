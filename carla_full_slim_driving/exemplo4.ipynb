{
 "cells": [
  {
   "cell_type": "code",
   "execution_count": 1,
   "metadata": {},
   "outputs": [],
   "source": [
    "# All imports\n",
    "import carla\n",
    "import time\n",
    "import cv2\n",
    "import numpy as np\n",
    "import math\n",
    "import sys\n",
    "sys.path.append('C:\\\\Users\\\\eglm\\\\Documents\\\\CARLA_0.9.14\\\\WindowsNoEditor\\\\PythonAPI\\\\carla')\n",
    "from agents.navigation.global_route_planner import GlobalRoutePlanner"
   ]
  },
  {
   "cell_type": "code",
   "execution_count": 2,
   "metadata": {},
   "outputs": [],
   "source": [
    "# Connect to the carla\n",
    "\n",
    "client = carla.Client('localhost', 2000)"
   ]
  },
  {
   "cell_type": "code",
   "execution_count": 5,
   "metadata": {},
   "outputs": [],
   "source": [
    "world = client.get_world()\n",
    "spanw_points = world.get_map().get_spawn_points()\n",
    "\n",
    "# look for a blueprint of mini car\n",
    "vehicle_bp = world.get_blueprint_library().filter('*mini*')\n",
    "\n",
    "# spanw a car\n",
    "start_point = spanw_points[0]\n",
    "vehicle = world.try_spawn_actor(vehicle_bp[0],start_point)\n",
    "\n",
    "# setup camera\n",
    "\n",
    "# CAMERA_POS_Z = 1.6\n",
    "# CAMERA_POS_X = 0.9\n",
    "CAMERA_POS_Z = 3\n",
    "CAMERA_POS_X = -5\n",
    "\n",
    "camera_bp = world.get_blueprint_library().find('sensor.camera.rgb')\n",
    "camera_bp.set_attribute('image_size_x','640')\n",
    "camera_bp.set_attribute('image_size_y','360')\n",
    "\n",
    "camera_init_trans = carla.Transform(carla.Location(z=CAMERA_POS_Z, x = CAMERA_POS_X))\n",
    "camera = world.spawn_actor(camera_bp,camera_init_trans, attach_to= vehicle)\n",
    "\n",
    "def camera_callback(image, data_dict):\n",
    "    data_dict['image'] = np.reshape(np.copy(image.raw_data),(image.height,image.width,4))\n",
    "\n",
    "image_w = camera_bp.get_attribute('image_size_x').as_int()\n",
    "image_h = camera_bp.get_attribute('image_size_y').as_int()\n",
    "\n",
    "camera_data = {'image':np.zeros((image_h,image_w,4))}\n",
    "camera.listen(lambda image: camera_callback(image,camera_data))"
   ]
  },
  {
   "cell_type": "code",
   "execution_count": 11,
   "metadata": {},
   "outputs": [],
   "source": [
    "# define speed constants\n",
    "\n",
    "PREFERRED_SPEED = 20\n",
    "SPEED_THRESHOLD = 2\n",
    "\n",
    "font = cv2.FONT_HERSHEY_SIMPLEX\n",
    "\n",
    "org = (30,30)\n",
    "org2 = (30,50)\n",
    "org3 = (30,70)\n",
    "\n",
    "fontScale = 0.5\n",
    "color = (255,255,255)\n",
    "\n",
    "thickness = 1\n",
    "\n",
    "def maintain_speed(s):\n",
    "\n",
    "    if s >= PREFERRED_SPEED:\n",
    "        return 0\n",
    "    if s < PREFERRED_SPEED - SPEED_THRESHOLD:\n",
    "        return 0.8\n",
    "    else:\n",
    "        return 0.4"
   ]
  },
  {
   "cell_type": "code",
   "execution_count": 12,
   "metadata": {},
   "outputs": [],
   "source": [
    "cv2.namedWindow('RGB Camera', cv2.WINDOW_AUTOSIZE)\n",
    "cv2.imshow('RGB Camera', camera_data['image'])\n",
    "\n",
    "#main loop\n",
    "quit = False\n",
    "\n",
    "while True:\n",
    "\n",
    "    world.tick()\n",
    "    if cv2.waitKey(1)==ord('q'):\n",
    "        quit = True\n",
    "        break\n",
    "    image = camera_data['image']\n",
    "\n",
    "    steering_angle = 0\n",
    "\n",
    "    V = vehicle.get_velocity()\n",
    "\n",
    "    # v is a vector in three dimensions\n",
    "    speed = round(3.6 * math.sqrt(V.x**2 + V.y**2 +V.z**2),0)\n",
    "\n",
    "    image = cv2.putText(image,'Speed: ' + str(int(speed))+' km', org2, font, fontScale, color, thickness, cv2.LINE_AA)\n",
    "\n",
    "    estimaded_trottle = maintain_speed(speed)\n",
    "\n",
    "    vehicle.apply_control(carla.VehicleControl(throttle = estimaded_trottle, steer=steering_angle))\n",
    "\n",
    "    cv2.imshow('RGB Camera',image)\n",
    "\n",
    "cv2.destroyAllWindows()\n",
    "camera.stop()\n",
    "\n",
    "# utility script of destruction\n",
    "for actor in world.get_actors().filter('*vehicle*'):\n",
    "    actor.destroy()\n",
    "for sensor in world.get_actors().filter('*sensor*'):\n",
    "    sensor.destroy()"
   ]
  },
  {
   "cell_type": "code",
   "execution_count": 6,
   "metadata": {},
   "outputs": [
    {
     "ename": "",
     "evalue": "",
     "output_type": "error",
     "traceback": [
      "\u001b[1;31mThe Kernel crashed while executing code in the the current cell or a previous cell. Please review the code in the cell(s) to identify a possible cause of the failure. Click <a href='https://aka.ms/vscodeJupyterKernelCrash'>here</a> for more info. View Jupyter <a href='command:jupyter.viewOutput'>log</a> for further details."
     ]
    }
   ],
   "source": [
    "cv2.destroyAllWindows()\n",
    "#camera.stop()\n",
    "\n",
    "# utility script of destruction\n",
    "for actor in world.get_actors().filter('*vehicle*'):\n",
    "    actor.destroy()\n",
    "for sensor in world.get_actors().filter('*sensor*'):\n",
    "    sensor.destroy()"
   ]
  }
 ],
 "metadata": {
  "kernelspec": {
   "display_name": ".venv",
   "language": "python",
   "name": "python3"
  },
  "language_info": {
   "codemirror_mode": {
    "name": "ipython",
    "version": 3
   },
   "file_extension": ".py",
   "mimetype": "text/x-python",
   "name": "python",
   "nbconvert_exporter": "python",
   "pygments_lexer": "ipython3",
   "version": "3.8.0"
  }
 },
 "nbformat": 4,
 "nbformat_minor": 2
}
