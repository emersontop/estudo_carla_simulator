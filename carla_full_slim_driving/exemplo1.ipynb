{
 "cells": [
  {
   "cell_type": "code",
   "execution_count": 1,
   "metadata": {},
   "outputs": [],
   "source": [
    "import carla\n",
    "import sys\n",
    "sys.path.append('C:\\\\Users\\\\eglm\\\\Documents\\\\CARLA_0.9.14\\\\WindowsNoEditor\\\\PythonAPI\\\\carla')\n",
    "from agents.navigation.global_route_planner import GlobalRoutePlanner"
   ]
  },
  {
   "cell_type": "code",
   "execution_count": 2,
   "metadata": {},
   "outputs": [],
   "source": [
    "client = carla.Client('localhost', 2000)\n",
    "\n",
    "world = client.get_world()\n",
    "\n",
    "# spectator = world.get_spectator()\n",
    "# spectator.set_transform(carla.Transform())\n",
    "\n",
    "spawn_points = world.get_map().get_spawn_points()\n",
    "\n",
    "vehicle_bp = world.get_blueprint_library().filter('*firetruck*')\n",
    "start_point = spawn_points[0]\n",
    "vehicle = world.try_spawn_actor(vehicle_bp[0], start_point)"
   ]
  },
  {
   "cell_type": "code",
   "execution_count": 3,
   "metadata": {},
   "outputs": [
    {
     "name": "stdout",
     "output_type": "stream",
     "text": [
      "Transform(Location(x=-64.644844, y=24.472569, z=-0.001349), Rotation(pitch=-0.000096, yaw=0.159200, roll=-0.001068))\n"
     ]
    }
   ],
   "source": [
    "# Get the cae's position on de map\n",
    "vehicle_pos = vehicle.get_transform()\n",
    "print(vehicle_pos)"
   ]
  },
  {
   "cell_type": "code",
   "execution_count": 4,
   "metadata": {},
   "outputs": [
    {
     "name": "stdout",
     "output_type": "stream",
     "text": [
      "Transform(Location(x=-64.644844, y=24.471010, z=0.600000), Rotation(pitch=0.000000, yaw=0.159198, roll=0.000000))\n"
     ]
    }
   ],
   "source": [
    "# Print the start point\n",
    "print(start_point)"
   ]
  },
  {
   "cell_type": "code",
   "execution_count": 5,
   "metadata": {},
   "outputs": [],
   "source": [
    "# send vechicle off\n",
    "vehicle.set_autopilot(False)"
   ]
  },
  {
   "cell_type": "code",
   "execution_count": 6,
   "metadata": {},
   "outputs": [],
   "source": [
    "# get the map\n",
    "town_map = world.get_map()"
   ]
  },
  {
   "cell_type": "code",
   "execution_count": 7,
   "metadata": {},
   "outputs": [],
   "source": [
    "roads = town_map.get_topology()"
   ]
  },
  {
   "cell_type": "code",
   "execution_count": 8,
   "metadata": {},
   "outputs": [
    {
     "name": "stdout",
     "output_type": "stream",
     "text": [
      "[(<carla.libcarla.Waypoint object at 0x0000028C975AF4B0>, <carla.libcarla.Waypoint object at 0x0000028C975AF630>), (<carla.libcarla.Waypoint object at 0x0000028C975AF690>, <carla.libcarla.Waypoint object at 0x0000028C975AF6F0>), (<carla.libcarla.Waypoint object at 0x0000028C975AF750>, <carla.libcarla.Waypoint object at 0x0000028C975AF7B0>), (<carla.libcarla.Waypoint object at 0x0000028C975AF810>, <carla.libcarla.Waypoint object at 0x0000028C975AF870>), (<carla.libcarla.Waypoint object at 0x0000028C975AF8D0>, <carla.libcarla.Waypoint object at 0x0000028C975AF930>), (<carla.libcarla.Waypoint object at 0x0000028C975AF990>, <carla.libcarla.Waypoint object at 0x0000028C975AF9F0>), (<carla.libcarla.Waypoint object at 0x0000028C975AFA50>, <carla.libcarla.Waypoint object at 0x0000028C975AFAB0>), (<carla.libcarla.Waypoint object at 0x0000028C975AFB10>, <carla.libcarla.Waypoint object at 0x0000028C975AFB70>), (<carla.libcarla.Waypoint object at 0x0000028C975AFBD0>, <carla.libcarla.Waypoint object at 0x0000028C975AFC30>), (<carla.libcarla.Waypoint object at 0x0000028C975AFC90>, <carla.libcarla.Waypoint object at 0x0000028C975AFCF0>), (<carla.libcarla.Waypoint object at 0x0000028C975AFD50>, <carla.libcarla.Waypoint object at 0x0000028C975AFDB0>), (<carla.libcarla.Waypoint object at 0x0000028C975AFE10>, <carla.libcarla.Waypoint object at 0x0000028C975AFE70>), (<carla.libcarla.Waypoint object at 0x0000028C975AFED0>, <carla.libcarla.Waypoint object at 0x0000028C975AFF30>), (<carla.libcarla.Waypoint object at 0x0000028C975AFF90>, <carla.libcarla.Waypoint object at 0x0000028C975B2030>), (<carla.libcarla.Waypoint object at 0x0000028C975B2090>, <carla.libcarla.Waypoint object at 0x0000028C975B20F0>), (<carla.libcarla.Waypoint object at 0x0000028C975B2150>, <carla.libcarla.Waypoint object at 0x0000028C975B21B0>), (<carla.libcarla.Waypoint object at 0x0000028C975B2210>, <carla.libcarla.Waypoint object at 0x0000028C975B2270>), (<carla.libcarla.Waypoint object at 0x0000028C975B22D0>, <carla.libcarla.Waypoint object at 0x0000028C975B2330>), (<carla.libcarla.Waypoint object at 0x0000028C975B2390>, <carla.libcarla.Waypoint object at 0x0000028C975B23F0>), (<carla.libcarla.Waypoint object at 0x0000028C975B2450>, <carla.libcarla.Waypoint object at 0x0000028C975B24B0>), (<carla.libcarla.Waypoint object at 0x0000028C975B2510>, <carla.libcarla.Waypoint object at 0x0000028C975B2570>), (<carla.libcarla.Waypoint object at 0x0000028C975B25D0>, <carla.libcarla.Waypoint object at 0x0000028C975B2630>), (<carla.libcarla.Waypoint object at 0x0000028C975B2690>, <carla.libcarla.Waypoint object at 0x0000028C975B26F0>), (<carla.libcarla.Waypoint object at 0x0000028C975B2750>, <carla.libcarla.Waypoint object at 0x0000028C975B27B0>), (<carla.libcarla.Waypoint object at 0x0000028C975B2810>, <carla.libcarla.Waypoint object at 0x0000028C975B2870>), (<carla.libcarla.Waypoint object at 0x0000028C975B28D0>, <carla.libcarla.Waypoint object at 0x0000028C975B2930>), (<carla.libcarla.Waypoint object at 0x0000028C975B2990>, <carla.libcarla.Waypoint object at 0x0000028C975B29F0>), (<carla.libcarla.Waypoint object at 0x0000028C975B2A50>, <carla.libcarla.Waypoint object at 0x0000028C975B2AB0>), (<carla.libcarla.Waypoint object at 0x0000028C975B2B10>, <carla.libcarla.Waypoint object at 0x0000028C975B2B70>), (<carla.libcarla.Waypoint object at 0x0000028C975B2BD0>, <carla.libcarla.Waypoint object at 0x0000028C975B2C30>), (<carla.libcarla.Waypoint object at 0x0000028C975B2C90>, <carla.libcarla.Waypoint object at 0x0000028C975B2CF0>), (<carla.libcarla.Waypoint object at 0x0000028C975B2D50>, <carla.libcarla.Waypoint object at 0x0000028C975B2DB0>), (<carla.libcarla.Waypoint object at 0x0000028C975B2E10>, <carla.libcarla.Waypoint object at 0x0000028C975B2E70>), (<carla.libcarla.Waypoint object at 0x0000028C975B2ED0>, <carla.libcarla.Waypoint object at 0x0000028C975B2F30>), (<carla.libcarla.Waypoint object at 0x0000028C975B2F90>, <carla.libcarla.Waypoint object at 0x0000028C975B3030>), (<carla.libcarla.Waypoint object at 0x0000028C975B3090>, <carla.libcarla.Waypoint object at 0x0000028C975B30F0>), (<carla.libcarla.Waypoint object at 0x0000028C975B3150>, <carla.libcarla.Waypoint object at 0x0000028C975B31B0>), (<carla.libcarla.Waypoint object at 0x0000028C975B3210>, <carla.libcarla.Waypoint object at 0x0000028C975B3270>), (<carla.libcarla.Waypoint object at 0x0000028C975B32D0>, <carla.libcarla.Waypoint object at 0x0000028C975B3330>), (<carla.libcarla.Waypoint object at 0x0000028C975B3390>, <carla.libcarla.Waypoint object at 0x0000028C975B33F0>), (<carla.libcarla.Waypoint object at 0x0000028C975B3450>, <carla.libcarla.Waypoint object at 0x0000028C975B34B0>), (<carla.libcarla.Waypoint object at 0x0000028C975B3510>, <carla.libcarla.Waypoint object at 0x0000028C975B3570>), (<carla.libcarla.Waypoint object at 0x0000028C975B35D0>, <carla.libcarla.Waypoint object at 0x0000028C975B3630>), (<carla.libcarla.Waypoint object at 0x0000028C975B3690>, <carla.libcarla.Waypoint object at 0x0000028C975B36F0>), (<carla.libcarla.Waypoint object at 0x0000028C975B3750>, <carla.libcarla.Waypoint object at 0x0000028C975B37B0>), (<carla.libcarla.Waypoint object at 0x0000028C975B3810>, <carla.libcarla.Waypoint object at 0x0000028C975B3870>), (<carla.libcarla.Waypoint object at 0x0000028C975B38D0>, <carla.libcarla.Waypoint object at 0x0000028C975B3930>), (<carla.libcarla.Waypoint object at 0x0000028C975B3990>, <carla.libcarla.Waypoint object at 0x0000028C975B39F0>), (<carla.libcarla.Waypoint object at 0x0000028C975B3A50>, <carla.libcarla.Waypoint object at 0x0000028C975B3AB0>), (<carla.libcarla.Waypoint object at 0x0000028C975B3B10>, <carla.libcarla.Waypoint object at 0x0000028C975B3B70>), (<carla.libcarla.Waypoint object at 0x0000028C975B3BD0>, <carla.libcarla.Waypoint object at 0x0000028C975B3C30>), (<carla.libcarla.Waypoint object at 0x0000028C975B3C90>, <carla.libcarla.Waypoint object at 0x0000028C975B3CF0>), (<carla.libcarla.Waypoint object at 0x0000028C975B3D50>, <carla.libcarla.Waypoint object at 0x0000028C975B3DB0>), (<carla.libcarla.Waypoint object at 0x0000028C975B3E10>, <carla.libcarla.Waypoint object at 0x0000028C975B3E70>), (<carla.libcarla.Waypoint object at 0x0000028C975B3ED0>, <carla.libcarla.Waypoint object at 0x0000028C975B3F30>), (<carla.libcarla.Waypoint object at 0x0000028C975B3F90>, <carla.libcarla.Waypoint object at 0x0000028C975B4030>), (<carla.libcarla.Waypoint object at 0x0000028C975B4090>, <carla.libcarla.Waypoint object at 0x0000028C975B40F0>), (<carla.libcarla.Waypoint object at 0x0000028C975B4150>, <carla.libcarla.Waypoint object at 0x0000028C975B41B0>), (<carla.libcarla.Waypoint object at 0x0000028C975B4210>, <carla.libcarla.Waypoint object at 0x0000028C975B4270>), (<carla.libcarla.Waypoint object at 0x0000028C975B42D0>, <carla.libcarla.Waypoint object at 0x0000028C975B4330>), (<carla.libcarla.Waypoint object at 0x0000028C975B4390>, <carla.libcarla.Waypoint object at 0x0000028C975B43F0>), (<carla.libcarla.Waypoint object at 0x0000028C975B4450>, <carla.libcarla.Waypoint object at 0x0000028C975B44B0>), (<carla.libcarla.Waypoint object at 0x0000028C975B4510>, <carla.libcarla.Waypoint object at 0x0000028C975B4570>), (<carla.libcarla.Waypoint object at 0x0000028C975B45D0>, <carla.libcarla.Waypoint object at 0x0000028C975B4630>), (<carla.libcarla.Waypoint object at 0x0000028C975B4690>, <carla.libcarla.Waypoint object at 0x0000028C975B46F0>), (<carla.libcarla.Waypoint object at 0x0000028C975B4750>, <carla.libcarla.Waypoint object at 0x0000028C975B47B0>), (<carla.libcarla.Waypoint object at 0x0000028C975B4810>, <carla.libcarla.Waypoint object at 0x0000028C975B4870>), (<carla.libcarla.Waypoint object at 0x0000028C975B48D0>, <carla.libcarla.Waypoint object at 0x0000028C975B4930>), (<carla.libcarla.Waypoint object at 0x0000028C975B4990>, <carla.libcarla.Waypoint object at 0x0000028C975B49F0>), (<carla.libcarla.Waypoint object at 0x0000028C975B4A50>, <carla.libcarla.Waypoint object at 0x0000028C975B4AB0>), (<carla.libcarla.Waypoint object at 0x0000028C975B4B10>, <carla.libcarla.Waypoint object at 0x0000028C975B4B70>), (<carla.libcarla.Waypoint object at 0x0000028C975B4BD0>, <carla.libcarla.Waypoint object at 0x0000028C975B4C30>), (<carla.libcarla.Waypoint object at 0x0000028C975B4C90>, <carla.libcarla.Waypoint object at 0x0000028C975B4CF0>), (<carla.libcarla.Waypoint object at 0x0000028C975B4D50>, <carla.libcarla.Waypoint object at 0x0000028C975B4DB0>), (<carla.libcarla.Waypoint object at 0x0000028C975B4E10>, <carla.libcarla.Waypoint object at 0x0000028C975B4E70>), (<carla.libcarla.Waypoint object at 0x0000028C975B4ED0>, <carla.libcarla.Waypoint object at 0x0000028C975B4F30>), (<carla.libcarla.Waypoint object at 0x0000028C975B4F90>, <carla.libcarla.Waypoint object at 0x0000028C975B5030>), (<carla.libcarla.Waypoint object at 0x0000028C975B5090>, <carla.libcarla.Waypoint object at 0x0000028C975B50F0>), (<carla.libcarla.Waypoint object at 0x0000028C975B5150>, <carla.libcarla.Waypoint object at 0x0000028C975B51B0>), (<carla.libcarla.Waypoint object at 0x0000028C975B5210>, <carla.libcarla.Waypoint object at 0x0000028C975B5270>), (<carla.libcarla.Waypoint object at 0x0000028C975B52D0>, <carla.libcarla.Waypoint object at 0x0000028C975B5330>), (<carla.libcarla.Waypoint object at 0x0000028C975B5390>, <carla.libcarla.Waypoint object at 0x0000028C975B53F0>), (<carla.libcarla.Waypoint object at 0x0000028C975B5450>, <carla.libcarla.Waypoint object at 0x0000028C975B54B0>), (<carla.libcarla.Waypoint object at 0x0000028C975B5510>, <carla.libcarla.Waypoint object at 0x0000028C975B5570>), (<carla.libcarla.Waypoint object at 0x0000028C975B55D0>, <carla.libcarla.Waypoint object at 0x0000028C975B5630>), (<carla.libcarla.Waypoint object at 0x0000028C975B5690>, <carla.libcarla.Waypoint object at 0x0000028C975B56F0>), (<carla.libcarla.Waypoint object at 0x0000028C975B5750>, <carla.libcarla.Waypoint object at 0x0000028C975B57B0>), (<carla.libcarla.Waypoint object at 0x0000028C975B5810>, <carla.libcarla.Waypoint object at 0x0000028C975B5870>), (<carla.libcarla.Waypoint object at 0x0000028C975B58D0>, <carla.libcarla.Waypoint object at 0x0000028C975B5930>), (<carla.libcarla.Waypoint object at 0x0000028C975B5990>, <carla.libcarla.Waypoint object at 0x0000028C975B59F0>), (<carla.libcarla.Waypoint object at 0x0000028C975B5A50>, <carla.libcarla.Waypoint object at 0x0000028C975B5AB0>), (<carla.libcarla.Waypoint object at 0x0000028C975B5B10>, <carla.libcarla.Waypoint object at 0x0000028C975B5B70>), (<carla.libcarla.Waypoint object at 0x0000028C975B5BD0>, <carla.libcarla.Waypoint object at 0x0000028C975B5C30>), (<carla.libcarla.Waypoint object at 0x0000028C975B5C90>, <carla.libcarla.Waypoint object at 0x0000028C975B5CF0>), (<carla.libcarla.Waypoint object at 0x0000028C975B5D50>, <carla.libcarla.Waypoint object at 0x0000028C975B5DB0>), (<carla.libcarla.Waypoint object at 0x0000028C975B5E10>, <carla.libcarla.Waypoint object at 0x0000028C975B5E70>), (<carla.libcarla.Waypoint object at 0x0000028C975B5ED0>, <carla.libcarla.Waypoint object at 0x0000028C975B5F30>), (<carla.libcarla.Waypoint object at 0x0000028C975B5F90>, <carla.libcarla.Waypoint object at 0x0000028C975B6030>), (<carla.libcarla.Waypoint object at 0x0000028C975B6090>, <carla.libcarla.Waypoint object at 0x0000028C975B60F0>), (<carla.libcarla.Waypoint object at 0x0000028C975B6150>, <carla.libcarla.Waypoint object at 0x0000028C975B61B0>), (<carla.libcarla.Waypoint object at 0x0000028C975B6210>, <carla.libcarla.Waypoint object at 0x0000028C975B6270>), (<carla.libcarla.Waypoint object at 0x0000028C975B62D0>, <carla.libcarla.Waypoint object at 0x0000028C975B6330>), (<carla.libcarla.Waypoint object at 0x0000028C975B6390>, <carla.libcarla.Waypoint object at 0x0000028C975B63F0>), (<carla.libcarla.Waypoint object at 0x0000028C975B6450>, <carla.libcarla.Waypoint object at 0x0000028C975B64B0>), (<carla.libcarla.Waypoint object at 0x0000028C975B6510>, <carla.libcarla.Waypoint object at 0x0000028C975B6570>), (<carla.libcarla.Waypoint object at 0x0000028C975B65D0>, <carla.libcarla.Waypoint object at 0x0000028C975B6630>), (<carla.libcarla.Waypoint object at 0x0000028C975B6690>, <carla.libcarla.Waypoint object at 0x0000028C975B66F0>), (<carla.libcarla.Waypoint object at 0x0000028C975B6750>, <carla.libcarla.Waypoint object at 0x0000028C975B67B0>), (<carla.libcarla.Waypoint object at 0x0000028C975B6810>, <carla.libcarla.Waypoint object at 0x0000028C975B6870>), (<carla.libcarla.Waypoint object at 0x0000028C975B68D0>, <carla.libcarla.Waypoint object at 0x0000028C975B6930>), (<carla.libcarla.Waypoint object at 0x0000028C975B6990>, <carla.libcarla.Waypoint object at 0x0000028C975B69F0>), (<carla.libcarla.Waypoint object at 0x0000028C975B6A50>, <carla.libcarla.Waypoint object at 0x0000028C975B6AB0>), (<carla.libcarla.Waypoint object at 0x0000028C975B6B10>, <carla.libcarla.Waypoint object at 0x0000028C975B6B70>), (<carla.libcarla.Waypoint object at 0x0000028C975B6BD0>, <carla.libcarla.Waypoint object at 0x0000028C975B6C30>), (<carla.libcarla.Waypoint object at 0x0000028C975B6C90>, <carla.libcarla.Waypoint object at 0x0000028C975B6CF0>), (<carla.libcarla.Waypoint object at 0x0000028C975B6D50>, <carla.libcarla.Waypoint object at 0x0000028C975B6DB0>), (<carla.libcarla.Waypoint object at 0x0000028C975B6E10>, <carla.libcarla.Waypoint object at 0x0000028C975B6E70>), (<carla.libcarla.Waypoint object at 0x0000028C975B6ED0>, <carla.libcarla.Waypoint object at 0x0000028C975B6F30>), (<carla.libcarla.Waypoint object at 0x0000028C975B6F90>, <carla.libcarla.Waypoint object at 0x0000028C975B7030>), (<carla.libcarla.Waypoint object at 0x0000028C975B7090>, <carla.libcarla.Waypoint object at 0x0000028C975B70F0>), (<carla.libcarla.Waypoint object at 0x0000028C975B7150>, <carla.libcarla.Waypoint object at 0x0000028C975B71B0>), (<carla.libcarla.Waypoint object at 0x0000028C975B7210>, <carla.libcarla.Waypoint object at 0x0000028C975B7270>), (<carla.libcarla.Waypoint object at 0x0000028C975B72D0>, <carla.libcarla.Waypoint object at 0x0000028C975B7330>), (<carla.libcarla.Waypoint object at 0x0000028C975B7390>, <carla.libcarla.Waypoint object at 0x0000028C975B73F0>), (<carla.libcarla.Waypoint object at 0x0000028C975B7450>, <carla.libcarla.Waypoint object at 0x0000028C975B74B0>), (<carla.libcarla.Waypoint object at 0x0000028C975B7510>, <carla.libcarla.Waypoint object at 0x0000028C975B7570>), (<carla.libcarla.Waypoint object at 0x0000028C975B75D0>, <carla.libcarla.Waypoint object at 0x0000028C975B7630>), (<carla.libcarla.Waypoint object at 0x0000028C975B7690>, <carla.libcarla.Waypoint object at 0x0000028C975B76F0>), (<carla.libcarla.Waypoint object at 0x0000028C975B7750>, <carla.libcarla.Waypoint object at 0x0000028C975B77B0>), (<carla.libcarla.Waypoint object at 0x0000028C975B7810>, <carla.libcarla.Waypoint object at 0x0000028C975B7870>), (<carla.libcarla.Waypoint object at 0x0000028C975B78D0>, <carla.libcarla.Waypoint object at 0x0000028C975B7930>), (<carla.libcarla.Waypoint object at 0x0000028C975B7990>, <carla.libcarla.Waypoint object at 0x0000028C975B79F0>), (<carla.libcarla.Waypoint object at 0x0000028C975B7A50>, <carla.libcarla.Waypoint object at 0x0000028C975B7AB0>), (<carla.libcarla.Waypoint object at 0x0000028C975B7B10>, <carla.libcarla.Waypoint object at 0x0000028C975B7B70>), (<carla.libcarla.Waypoint object at 0x0000028C975B7BD0>, <carla.libcarla.Waypoint object at 0x0000028C975B7C30>), (<carla.libcarla.Waypoint object at 0x0000028C975B7C90>, <carla.libcarla.Waypoint object at 0x0000028C975B7CF0>), (<carla.libcarla.Waypoint object at 0x0000028C975B7D50>, <carla.libcarla.Waypoint object at 0x0000028C975B7DB0>), (<carla.libcarla.Waypoint object at 0x0000028C975B7E10>, <carla.libcarla.Waypoint object at 0x0000028C975B7E70>), (<carla.libcarla.Waypoint object at 0x0000028C975B7ED0>, <carla.libcarla.Waypoint object at 0x0000028C975B7F30>), (<carla.libcarla.Waypoint object at 0x0000028C975B7F90>, <carla.libcarla.Waypoint object at 0x0000028C975B8030>), (<carla.libcarla.Waypoint object at 0x0000028C975B8090>, <carla.libcarla.Waypoint object at 0x0000028C975B80F0>), (<carla.libcarla.Waypoint object at 0x0000028C975B8150>, <carla.libcarla.Waypoint object at 0x0000028C975B81B0>), (<carla.libcarla.Waypoint object at 0x0000028C975B8210>, <carla.libcarla.Waypoint object at 0x0000028C975B8270>), (<carla.libcarla.Waypoint object at 0x0000028C975B82D0>, <carla.libcarla.Waypoint object at 0x0000028C975B8330>), (<carla.libcarla.Waypoint object at 0x0000028C975B8390>, <carla.libcarla.Waypoint object at 0x0000028C975B83F0>), (<carla.libcarla.Waypoint object at 0x0000028C975B8450>, <carla.libcarla.Waypoint object at 0x0000028C975B84B0>), (<carla.libcarla.Waypoint object at 0x0000028C975B8510>, <carla.libcarla.Waypoint object at 0x0000028C975B8570>), (<carla.libcarla.Waypoint object at 0x0000028C975B85D0>, <carla.libcarla.Waypoint object at 0x0000028C975B8630>), (<carla.libcarla.Waypoint object at 0x0000028C975B8690>, <carla.libcarla.Waypoint object at 0x0000028C975B86F0>), (<carla.libcarla.Waypoint object at 0x0000028C975B8750>, <carla.libcarla.Waypoint object at 0x0000028C975B87B0>), (<carla.libcarla.Waypoint object at 0x0000028C975B8810>, <carla.libcarla.Waypoint object at 0x0000028C975B8870>), (<carla.libcarla.Waypoint object at 0x0000028C975B88D0>, <carla.libcarla.Waypoint object at 0x0000028C975B8930>), (<carla.libcarla.Waypoint object at 0x0000028C975B8990>, <carla.libcarla.Waypoint object at 0x0000028C975B89F0>), (<carla.libcarla.Waypoint object at 0x0000028C975B8A50>, <carla.libcarla.Waypoint object at 0x0000028C975B8AB0>), (<carla.libcarla.Waypoint object at 0x0000028C975B8B10>, <carla.libcarla.Waypoint object at 0x0000028C975B8B70>), (<carla.libcarla.Waypoint object at 0x0000028C975B8BD0>, <carla.libcarla.Waypoint object at 0x0000028C975B8C30>), (<carla.libcarla.Waypoint object at 0x0000028C975B8C90>, <carla.libcarla.Waypoint object at 0x0000028C975B8CF0>), (<carla.libcarla.Waypoint object at 0x0000028C975B8D50>, <carla.libcarla.Waypoint object at 0x0000028C975B8DB0>), (<carla.libcarla.Waypoint object at 0x0000028C975B8E10>, <carla.libcarla.Waypoint object at 0x0000028C975B8E70>), (<carla.libcarla.Waypoint object at 0x0000028C975B8ED0>, <carla.libcarla.Waypoint object at 0x0000028C975B8F30>), (<carla.libcarla.Waypoint object at 0x0000028C975B8F90>, <carla.libcarla.Waypoint object at 0x0000028C975B9030>), (<carla.libcarla.Waypoint object at 0x0000028C975B9090>, <carla.libcarla.Waypoint object at 0x0000028C975B90F0>), (<carla.libcarla.Waypoint object at 0x0000028C975B9150>, <carla.libcarla.Waypoint object at 0x0000028C975B91B0>), (<carla.libcarla.Waypoint object at 0x0000028C975B9210>, <carla.libcarla.Waypoint object at 0x0000028C975B9270>), (<carla.libcarla.Waypoint object at 0x0000028C975B92D0>, <carla.libcarla.Waypoint object at 0x0000028C975B9330>), (<carla.libcarla.Waypoint object at 0x0000028C975B9390>, <carla.libcarla.Waypoint object at 0x0000028C975B93F0>), (<carla.libcarla.Waypoint object at 0x0000028C975B9450>, <carla.libcarla.Waypoint object at 0x0000028C975B94B0>), (<carla.libcarla.Waypoint object at 0x0000028C975B9510>, <carla.libcarla.Waypoint object at 0x0000028C975B9570>), (<carla.libcarla.Waypoint object at 0x0000028C975B95D0>, <carla.libcarla.Waypoint object at 0x0000028C975B9630>), (<carla.libcarla.Waypoint object at 0x0000028C975B9690>, <carla.libcarla.Waypoint object at 0x0000028C975B96F0>), (<carla.libcarla.Waypoint object at 0x0000028C975B9750>, <carla.libcarla.Waypoint object at 0x0000028C975B97B0>), (<carla.libcarla.Waypoint object at 0x0000028C975B9810>, <carla.libcarla.Waypoint object at 0x0000028C975B9870>), (<carla.libcarla.Waypoint object at 0x0000028C975B98D0>, <carla.libcarla.Waypoint object at 0x0000028C975B9930>), (<carla.libcarla.Waypoint object at 0x0000028C975B9990>, <carla.libcarla.Waypoint object at 0x0000028C975B99F0>), (<carla.libcarla.Waypoint object at 0x0000028C975B9A50>, <carla.libcarla.Waypoint object at 0x0000028C975B9AB0>), (<carla.libcarla.Waypoint object at 0x0000028C975B9B10>, <carla.libcarla.Waypoint object at 0x0000028C975B9B70>), (<carla.libcarla.Waypoint object at 0x0000028C975B9BD0>, <carla.libcarla.Waypoint object at 0x0000028C975B9C30>), (<carla.libcarla.Waypoint object at 0x0000028C975B9C90>, <carla.libcarla.Waypoint object at 0x0000028C975B9CF0>), (<carla.libcarla.Waypoint object at 0x0000028C975B9D50>, <carla.libcarla.Waypoint object at 0x0000028C975B9DB0>), (<carla.libcarla.Waypoint object at 0x0000028C975B9E10>, <carla.libcarla.Waypoint object at 0x0000028C975B9E70>), (<carla.libcarla.Waypoint object at 0x0000028C975B9ED0>, <carla.libcarla.Waypoint object at 0x0000028C975B9F30>), (<carla.libcarla.Waypoint object at 0x0000028C975B9F90>, <carla.libcarla.Waypoint object at 0x0000028C975BB030>), (<carla.libcarla.Waypoint object at 0x0000028C975BB090>, <carla.libcarla.Waypoint object at 0x0000028C975BB0F0>), (<carla.libcarla.Waypoint object at 0x0000028C975BB150>, <carla.libcarla.Waypoint object at 0x0000028C975BB1B0>), (<carla.libcarla.Waypoint object at 0x0000028C975BB210>, <carla.libcarla.Waypoint object at 0x0000028C975BB270>), (<carla.libcarla.Waypoint object at 0x0000028C975BB2D0>, <carla.libcarla.Waypoint object at 0x0000028C975BB330>), (<carla.libcarla.Waypoint object at 0x0000028C975BB390>, <carla.libcarla.Waypoint object at 0x0000028C975BB3F0>), (<carla.libcarla.Waypoint object at 0x0000028C975BB450>, <carla.libcarla.Waypoint object at 0x0000028C975BB4B0>), (<carla.libcarla.Waypoint object at 0x0000028C975BB510>, <carla.libcarla.Waypoint object at 0x0000028C975BB570>), (<carla.libcarla.Waypoint object at 0x0000028C975BB5D0>, <carla.libcarla.Waypoint object at 0x0000028C975BB630>), (<carla.libcarla.Waypoint object at 0x0000028C975BB690>, <carla.libcarla.Waypoint object at 0x0000028C975BB6F0>), (<carla.libcarla.Waypoint object at 0x0000028C975BB750>, <carla.libcarla.Waypoint object at 0x0000028C975BB7B0>), (<carla.libcarla.Waypoint object at 0x0000028C975BB810>, <carla.libcarla.Waypoint object at 0x0000028C975BB870>), (<carla.libcarla.Waypoint object at 0x0000028C975BB8D0>, <carla.libcarla.Waypoint object at 0x0000028C975BB930>), (<carla.libcarla.Waypoint object at 0x0000028C975BB990>, <carla.libcarla.Waypoint object at 0x0000028C975BB9F0>), (<carla.libcarla.Waypoint object at 0x0000028C975BBA50>, <carla.libcarla.Waypoint object at 0x0000028C975BBAB0>), (<carla.libcarla.Waypoint object at 0x0000028C975BBB10>, <carla.libcarla.Waypoint object at 0x0000028C975BBB70>), (<carla.libcarla.Waypoint object at 0x0000028C975BBBD0>, <carla.libcarla.Waypoint object at 0x0000028C975BBC30>), (<carla.libcarla.Waypoint object at 0x0000028C975BBC90>, <carla.libcarla.Waypoint object at 0x0000028C975BBCF0>), (<carla.libcarla.Waypoint object at 0x0000028C975BBD50>, <carla.libcarla.Waypoint object at 0x0000028C975BBDB0>)]\n"
     ]
    }
   ],
   "source": [
    "# Topology is a large pairs of waypoints defining all roads - tuples of those\n",
    "print(roads)"
   ]
  },
  {
   "cell_type": "code",
   "execution_count": 9,
   "metadata": {},
   "outputs": [
    {
     "name": "stdout",
     "output_type": "stream",
     "text": [
      "(<carla.libcarla.Waypoint object at 0x0000028C975AF4B0>, <carla.libcarla.Waypoint object at 0x0000028C975AF630>)\n",
      "Waypoint(Transform(Location(x=109.929878, y=-9.334196, z=0.000000), Rotation(pitch=0.000000, yaw=-89.609253, roll=0.000000)))\n"
     ]
    }
   ],
   "source": [
    "# have a look at the waypoint \n",
    "print(roads[0])\n",
    "print(roads[0][0])"
   ]
  },
  {
   "cell_type": "code",
   "execution_count": 10,
   "metadata": {},
   "outputs": [],
   "source": [
    "# Using the code to plna the route and then draw it in the simulator\n",
    "\n",
    "sampling_resolution = 2\n",
    "\n",
    "grp = GlobalRoutePlanner(town_map, sampling_resolution)\n",
    "\n",
    "point_a = carla.Location(x=-64.644844, y=24.471010, z=0.600000)\n",
    "point_b = carla.Location(x=-99.846802, y=38.135620, z=0.036667)\n",
    "\n",
    "route = grp.trace_route(point_a, point_b)\n",
    "\n",
    "for waypoint in route:\n",
    "    world.debug.draw_string(waypoint[0].transform.location, '^', draw_shadow=False,\n",
    "        color = carla.Color(r=0,g=255,b=0), life_time = 120.0,\n",
    "        persistent_lines=True)\n"
   ]
  },
  {
   "cell_type": "code",
   "execution_count": 11,
   "metadata": {},
   "outputs": [],
   "source": [
    "# utility script of destruction\n",
    "\n",
    "for actor in world.get_actors().filter('*vehicle*'):\n",
    "    actor.destroy()\n",
    "for sensor in world.get_actors().filter('*sensor*'):\n",
    "    sensor.destroy()"
   ]
  },
  {
   "cell_type": "code",
   "execution_count": 12,
   "metadata": {},
   "outputs": [],
   "source": [
    "# Define 2 cars\n",
    "\n",
    "truck_bp = world.get_blueprint_library().filter('*firetruck*')\n",
    "mini_bp = world.get_blueprint_library().filter('*cooper_s*')\n",
    "\n",
    "# Start first car in alredy defined start point[\n",
    "truck = world.try_spawn_actor(truck_bp[0],start_point)"
   ]
  },
  {
   "cell_type": "code",
   "execution_count": 13,
   "metadata": {},
   "outputs": [],
   "source": [
    "# tweak spactator position to watch the show\n",
    "\n",
    "spectator = world.get_spectator()\n",
    "spawn_points = world.get_map().get_spawn_points()\n",
    "start_point = spawn_points[0]\n",
    "\n",
    "spectator_pos = carla.Transform(start_point.location + carla.Location(x=20, y=10, z=4),\n",
    "                                carla.Rotation(yaw=start_point.rotation.yaw -155))\n",
    "\n",
    "spectator.set_transform(spectator_pos)"
   ]
  },
  {
   "cell_type": "code",
   "execution_count": 22,
   "metadata": {},
   "outputs": [],
   "source": [
    "# drop the mini the sky\n",
    "\n",
    "mini = world.try_spawn_actor(mini_bp[0], spawn_points[10])\n",
    "\n",
    "mini_pos = carla.Transform(start_point.location + carla.Location(x=-4,z=20),\n",
    "                           carla.Rotation(yaw=start_point.rotation.yaw - 0)\n",
    "                           )\n",
    "mini.set_transform(mini_pos)"
   ]
  }
 ],
 "metadata": {
  "kernelspec": {
   "display_name": ".venv",
   "language": "python",
   "name": "python3"
  },
  "language_info": {
   "codemirror_mode": {
    "name": "ipython",
    "version": 3
   },
   "file_extension": ".py",
   "mimetype": "text/x-python",
   "name": "python",
   "nbconvert_exporter": "python",
   "pygments_lexer": "ipython3",
   "version": "3.8.0"
  }
 },
 "nbformat": 4,
 "nbformat_minor": 2
}
